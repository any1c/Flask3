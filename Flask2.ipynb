{
 "cells": [
  {
   "cell_type": "markdown",
   "id": "39a4e547-026d-486c-a73f-328a992fd111",
   "metadata": {},
   "source": [
    "## Flask Assignment2"
   ]
  },
  {
   "cell_type": "code",
   "execution_count": null,
   "id": "1608f155-c4b5-424b-8ae6-eab1a8d8eab4",
   "metadata": {},
   "outputs": [],
   "source": [
    "\"\"\"\n",
    "Q1.Explain GET and POST methods.\n",
    "\"\"\""
   ]
  },
  {
   "cell_type": "code",
   "execution_count": null,
   "id": "66fdd218-a28e-43a3-85be-34100db1fa13",
   "metadata": {},
   "outputs": [],
   "source": [
    "\"\"\"\n",
    "GET and POST are two different methods in HTTP used in web developement for sending and reterving data,\n",
    "GET and POST are two different methods thorugh which data is passsed in flask, get is method in\n",
    "which data is passed through url and post is a method in which data is passed through a body,\n",
    "GET method in term of security is more secured and get is always by default.\n",
    "\n",
    "for example below is the code for GET and PUT method\n",
    "@app.route(\"/get_data\")\n",
    "def for_get():\n",
    "   data=request.args.get('x')\n",
    "   return \"This is the data I get {}\".format(data)\n",
    "   \n",
    "and in url you have to follow the syntax use the link:5000/get_data?x=\"hello\" <- here data is eneterd in url\n",
    "\n",
    "@app.route(\"/\",methods=[\"POST])\n",
    "# like this you have declare and automatically it will take data where you want and show it you.\n",
    "\n",
    "example of get is google\n",
    "example of put is gmail\n",
    "\"\"\"\n",
    "\n"
   ]
  },
  {
   "cell_type": "code",
   "execution_count": null,
   "id": "3a32a463-fcbe-4b16-82a0-0b536004b823",
   "metadata": {},
   "outputs": [],
   "source": []
  },
  {
   "cell_type": "code",
   "execution_count": null,
   "id": "44588401-6bee-4265-a845-becb85dc027a",
   "metadata": {},
   "outputs": [],
   "source": [
    "\"\"\"\n",
    "Q2. Why is request used in Flask?\n",
    "\"\"\""
   ]
  },
  {
   "cell_type": "code",
   "execution_count": null,
   "id": "145024cc-d9b3-4cfc-a391-a8004472f5be",
   "metadata": {},
   "outputs": [],
   "source": [
    "\"\"\"\n",
    "In flask, request is object which is used to access the incoming client request in pyhton function, \n",
    "request in flask is used for different methods such as request.method to know which method it is usally here\n",
    "everyone declares if(request.method=='POST'),requesrt.form is use to reterive values of the given attributes\n",
    "for example username is attribute declare for getting user name then username=request.form('username)\n",
    "request.json to get and reterive data in form of json or dict bascially and key and value pair thing\n",
    "\"username\":manjot\n",
    "\"\"\"\n"
   ]
  },
  {
   "cell_type": "code",
   "execution_count": null,
   "id": "10cf0f5d-ff14-4f6f-a7a5-89acd93b65f2",
   "metadata": {},
   "outputs": [],
   "source": []
  },
  {
   "cell_type": "code",
   "execution_count": null,
   "id": "c8e396c1-72c1-4d4f-8112-99d9fd4928b8",
   "metadata": {},
   "outputs": [],
   "source": [
    "\"\"\"\n",
    "Q3. Why is redirect() used in Flask?\n",
    "\"\"\"\n"
   ]
  },
  {
   "cell_type": "code",
   "execution_count": null,
   "id": "0b3eeea7-8a29-4ab5-a58e-d43cf4283dbc",
   "metadata": {},
   "outputs": [],
   "source": [
    "\"\"\"\n",
    "In flask, redirect() is used to redirect client to different URL, this is useful when client have \n",
    "have completed a form or done something and you want them to redirect to another page, example in calculator app,\n",
    "we redirected client after they have submitted the op and num to the result page.\n",
    "\"\"\""
   ]
  },
  {
   "cell_type": "code",
   "execution_count": null,
   "id": "ad79e388-9782-42e9-aade-3a053da97c65",
   "metadata": {},
   "outputs": [],
   "source": []
  },
  {
   "cell_type": "code",
   "execution_count": null,
   "id": "44870211-9642-4fd0-83cd-950407c0352e",
   "metadata": {},
   "outputs": [],
   "source": [
    "\"\"\"\n",
    "Q4.What are templates in Flask? Why is the render_template() function used?\n",
    "\"\"\""
   ]
  },
  {
   "cell_type": "code",
   "execution_count": null,
   "id": "f0a367d0-87d1-40f1-94a5-1e4804f3071c",
   "metadata": {},
   "outputs": [],
   "source": [
    "\"\"\"\n",
    "In Flask, a template is accessed to render a dymanic HTML pages, that can return to client on HTTP request,\n",
    "templates are basically contain placeholder for dymanic content\n",
    "\n",
    "The render_template() is a function in python to render a template with speific data. the function name of template\n",
    "file as first argument and any additional arguments are used to pass data to template\n",
    "\n",
    "from flask import render_template\n",
    "\n",
    "render_template(\"results.html\",result=result)"
   ]
  },
  {
   "cell_type": "code",
   "execution_count": null,
   "id": "232473e8-9515-4f13-ad91-152740160e1b",
   "metadata": {},
   "outputs": [],
   "source": []
  },
  {
   "cell_type": "code",
   "execution_count": null,
   "id": "5ec46fff-5b7b-436d-adc8-1a33d252b779",
   "metadata": {},
   "outputs": [],
   "source": [
    "\"\"\"\n",
    "Q5.Create a simple API. Use Postman to test it. Attach the screenshot of the output in the Jupyter Notebook.\n",
    "\"\"\""
   ]
  },
  {
   "cell_type": "code",
   "execution_count": null,
   "id": "6fbc7e8b-965e-43b8-a3ed-7b02c210d9ed",
   "metadata": {},
   "outputs": [],
   "source": []
  }
 ],
 "metadata": {
  "kernelspec": {
   "display_name": "Python 3 (ipykernel)",
   "language": "python",
   "name": "python3"
  },
  "language_info": {
   "codemirror_mode": {
    "name": "ipython",
    "version": 3
   },
   "file_extension": ".py",
   "mimetype": "text/x-python",
   "name": "python",
   "nbconvert_exporter": "python",
   "pygments_lexer": "ipython3",
   "version": "3.10.8"
  }
 },
 "nbformat": 4,
 "nbformat_minor": 5
}
